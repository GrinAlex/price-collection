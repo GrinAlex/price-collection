{
 "cells": [
  {
   "cell_type": "code",
   "execution_count": null,
   "id": "a77fcb98",
   "metadata": {},
   "outputs": [],
   "source": [
    "import requests\n",
    "\n",
    "from selenium import webdriver\n",
    "from selenium.webdriver.common.by import By\n",
    "\n",
    "from selenium.webdriver.support.ui import WebDriverWait\n",
    "from selenium.webdriver.support import expected_conditions as EC\n",
    "\n",
    "import time\n",
    "import csv\n",
    "\n"
   ]
  },
  {
   "cell_type": "code",
   "execution_count": 2,
   "id": "07e85d5e",
   "metadata": {},
   "outputs": [
    {
     "name": "stdout",
     "output_type": "stream",
     "text": [
      "200\n"
     ]
    }
   ],
   "source": [
    "net = \"Silpo\"   \n",
    "url = \"https://silpo.ua/\"\n",
    "curr_time = time.strftime(\"%Y-%m-%d %H:%M:%S\", time.localtime())\n",
    "time_sleep = 5\n",
    "\n",
    "response = requests.get(url)\n",
    "print(response.status_code)\n",
    "\n",
    "data = []"
   ]
  },
  {
   "cell_type": "code",
   "execution_count": 3,
   "id": "20326e4b",
   "metadata": {},
   "outputs": [],
   "source": [
    "#Запуск сторінки\n",
    "driver = webdriver.Chrome()\n",
    "driver.get(url)\n",
    "WebDriverWait(driver, time_sleep).until(EC.presence_of_element_located((By.ID, \"category-menu-button\")))\n",
    "time.sleep(15)"
   ]
  },
  {
   "cell_type": "code",
   "execution_count": 4,
   "id": "ec4bfc27",
   "metadata": {},
   "outputs": [],
   "source": [
    "#Прибрати повідомлення з куками, щоб не мішало скролінгу сторінки\n",
    "while True:\n",
    "    try:\n",
    "        driver.find_element(By.XPATH, '/html/body/sf-shop-silpo-root/shop-silpo-root-shell/silpo-shell-main/div/div[3]/silpo-shell-cookies-banner/div/button[1]').click()\n",
    "    except:\n",
    "        break"
   ]
  },
  {
   "cell_type": "markdown",
   "id": "421c2f87",
   "metadata": {},
   "source": [
    "Зліва внизу вилазить віконце Акція дня, яка потім заважає при підтвердженні адреси.\n",
    "Тому, щоб його позбутися я спочатку вибираю категорію. Після чого віконце зникає. І далі можна підтвердити адресу. \n"
   ]
  },
  {
   "cell_type": "code",
   "execution_count": 5,
   "id": "9f1f797b",
   "metadata": {},
   "outputs": [],
   "source": [
    "#Вибір категорії\n",
    "\n",
    "\n",
    "#Виклик меню\n",
    "button_category = driver.find_element(By.ID, \"category-menu-button\").click()\n",
    "time.sleep(time_sleep)\n",
    "#тут може поламатись, якщо не прогрузиться \"всі товари\". Можливо краще через головне меню. Але мені не подобаються там класи. \n",
    "\n",
    "\n",
    "#Вибір категорії солодощі\n",
    "choose_category = driver.find_element(By.XPATH, '/html/body/sf-shop-silpo-root/shop-silpo-root-shell/silpo-shell-main/div/div[1]/silpo-shell-header/silpo-shell-desktop-header/div/shop-silpo-category-menu/div[2]/div/ul/li[15]/a').click()\n",
    "time.sleep(time_sleep)\n",
    "\n",
    "\n",
    "#Перехід в категорію торти та тістечка\n",
    "choose_category = driver.find_element(By.XPATH, '/html/body/sf-shop-silpo-root/shop-silpo-root-shell/silpo-shell-main/div/div[3]/silpo-category/silpo-catalog/div/div[1]/shop-silpo-chips/ul/li[3]/a').click()\n",
    "time.sleep(time_sleep)"
   ]
  },
  {
   "cell_type": "code",
   "execution_count": 6,
   "id": "9eb575f5",
   "metadata": {},
   "outputs": [],
   "source": [
    "#Знайти блок з адресами і викликати\n",
    "address_button = driver.find_element(By.CSS_SELECTOR, \"div.header-delivery__body\").click()\n",
    "time.sleep(time_sleep)"
   ]
  },
  {
   "cell_type": "code",
   "execution_count": 7,
   "id": "61fdc2b4",
   "metadata": {},
   "outputs": [],
   "source": [
    "#Вибрати самосвивіз\n",
    "self_delivery = driver.find_element(By.XPATH, '//*[@id=\"select-address-layout\"]/div[2]/div/div/shop-silpo-basket-select-address-tabs/button[3]').click()\n",
    "time.sleep(time_sleep)"
   ]
  },
  {
   "cell_type": "code",
   "execution_count": 8,
   "id": "56d492ae",
   "metadata": {},
   "outputs": [],
   "source": [
    "#Зробити активним інпут з містом та очищаємо його\n",
    "address_block = driver.find_element(By.XPATH, '//*[@id=\"select-address-layout\"]/div[1]/shop-silpo-basket-select-address-self-delivery/div/div[1]/div/shop-silpo-self-delivery-autocomplete/shop-silpo-self-delivery-autocomplete-input').click()\n",
    "time.sleep(time_sleep)\n",
    "\n",
    "delete_addres = driver.find_element(By.XPATH, '//*[@id=\"select-address-layout\"]/div[1]/shop-silpo-basket-select-address-self-delivery/div/div[1]/div/shop-silpo-self-delivery-autocomplete[1]/shop-silpo-self-delivery-autocomplete-input/div/button').click()\n",
    "time.sleep(time_sleep)"
   ]
  },
  {
   "cell_type": "code",
   "execution_count": 9,
   "id": "419479da",
   "metadata": {},
   "outputs": [],
   "source": [
    "#Визначити перелік міст \n",
    "city_list = driver.find_elements(By.CSS_SELECTOR, \"li.search-suggestions__item\")\n",
    "for city in city_list:\n",
    "    if city.text == \"Київ\":\n",
    "        city.click()\n",
    "        break"
   ]
  },
  {
   "cell_type": "code",
   "execution_count": 10,
   "id": "88a8c854",
   "metadata": {},
   "outputs": [],
   "source": [
    "#Зробити активним інпут з супермаркетом та очищаємо його\n",
    "address_market = driver.find_element(By.XPATH, '//*[@id=\"select-address-layout\"]/div[1]/shop-silpo-basket-select-address-self-delivery/div/div[1]/div/shop-silpo-self-delivery-autocomplete[2]/shop-silpo-self-delivery-autocomplete-input/div').click()\n",
    "time.sleep(time_sleep)\n",
    "\n",
    "while True:\n",
    "    try:\n",
    "        driver.find_element(By.XPATH, '//*[@id=\"select-address-layout\"]/div[1]/shop-silpo-basket-select-address-self-delivery/div/div[1]/div/shop-silpo-self-delivery-autocomplete[2]/shop-silpo-self-delivery-autocomplete-input/div/button').click()\n",
    "    except:\n",
    "        break\n",
    "    \n",
    "time.sleep(time_sleep)\n",
    "\n"
   ]
  },
  {
   "cell_type": "code",
   "execution_count": 11,
   "id": "c2ae1f8e",
   "metadata": {},
   "outputs": [],
   "source": [
    "# Знаходження переліку магазинів та клік по магазину\n",
    "address_market_list = driver.find_element(By.XPATH, '//*[@id=\"select-address-layout\"]/div[1]/shop-silpo-basket-select-address-self-delivery/div/div[1]/div/shop-silpo-self-delivery-autocomplete[2]/shop-silpo-self-delivery-autocomplete-options/div')\n",
    "\n",
    "shop_list = address_market_list.find_elements(By.CSS_SELECTOR, \"li.search-suggestions__item\")\n",
    "\n",
    "for shop in shop_list:\n",
    "    if shop.text == \"вул. Гната Юри, 20\":\n",
    "        shop.click()\n",
    "        break\n",
    "    \n",
    "    \n",
    "time.sleep(time_sleep)   \n"
   ]
  },
  {
   "cell_type": "code",
   "execution_count": 12,
   "id": "6f098eb6",
   "metadata": {},
   "outputs": [],
   "source": [
    "# Підтвердити адресу\n",
    "button_accept = driver.find_element(By.XPATH, '//*[@id=\"select-address-layout\"]/div[1]/shop-silpo-basket-select-address-self-delivery/div/div[2]/button').click()\n",
    "time.sleep(30)"
   ]
  },
  {
   "cell_type": "code",
   "execution_count": 13,
   "id": "6deeb2a1",
   "metadata": {},
   "outputs": [],
   "source": [
    "# Скролінг сторінки для розкриття всіх товарів\n",
    "while True:\n",
    "    try:\n",
    "        #print(\"Start scrolling\")\n",
    "        driver.find_element(By.CSS_SELECTOR, \"div.pagination\").find_element(By.TAG_NAME, \"button\").click()\n",
    "        #print(\"Scroll completed\")\n",
    "        time.sleep(30)\n",
    "        #print(\"Sleep finished\")\n",
    "    except:\n",
    "        break\n",
    "    \n",
    "    \n",
    "time.sleep(30)"
   ]
  },
  {
   "cell_type": "code",
   "execution_count": 16,
   "id": "a8ee36af",
   "metadata": {},
   "outputs": [],
   "source": [
    "# Get all elements from the current page\n",
    "elems = driver.find_element(By.CSS_SELECTOR, \"div.products-list\")\n",
    "#print(elems)"
   ]
  },
  {
   "cell_type": "code",
   "execution_count": 17,
   "id": "58bbfd50",
   "metadata": {},
   "outputs": [],
   "source": [
    "\n",
    "# Find all product cards\n",
    "product_cards = elems.find_elements(By.CLASS_NAME, \"products-list__item\")\n",
    "\n",
    "product_cards_list = [prod_card for prod_card in product_cards if prod_card.is_displayed()]\n",
    "\n",
    "# Loop by product_cards_list\n",
    "for product in product_cards_list:\n",
    "    product_name = product.find_element(By.CLASS_NAME, \"product-card__title\").text\n",
    "    \n",
    "    try:\n",
    "        product_regular_price = product.find_element(By.CLASS_NAME, \"product-card-price__displayPrice\").text.split(\" \")[0]\n",
    "    except:\n",
    "        product_regular_price = ''\n",
    "    try:\n",
    "        product_old_price = product.find_element(By.CLASS_NAME, \"product-card-price__displayOldPrice\").text\n",
    "    except:\n",
    "        product_old_price = ''\n",
    "    try:\n",
    "        product_special_text = product.find_element(By.CLASS_NAME, \"ft-typo-14-semibold\").text\n",
    "    except:\n",
    "        product_special_text = ''\n",
    "    data.append({\n",
    "        'net': net,\n",
    "        'name': product_name,\n",
    "        'regular_price': product_regular_price,\n",
    "        'old_price': product_old_price,\n",
    "        'special_text': product_special_text,\n",
    "        'curr_time': curr_time\n",
    "    })\n"
   ]
  },
  {
   "cell_type": "code",
   "execution_count": 18,
   "id": "4af62cef",
   "metadata": {},
   "outputs": [],
   "source": [
    "# Specify the CSV file name\n",
    "filename = \"data.csv\"\n",
    "\n",
    "# Extract fieldnames from the first dictionary\n",
    "fieldnames = data[0].keys()\n",
    "\n",
    "# Write to CSV\n",
    "with open(filename, mode=\"w\", newline=\"\", encoding=\"utf-8\") as file:\n",
    "    writer = csv.DictWriter(file, fieldnames=fieldnames)\n",
    "    writer.writeheader()  # write header row\n",
    "    writer.writerows(data)  # write data rows"
   ]
  },
  {
   "cell_type": "code",
   "execution_count": 19,
   "id": "25f86f05",
   "metadata": {},
   "outputs": [
    {
     "name": "stdout",
     "output_type": "stream",
     "text": [
      "done\n"
     ]
    }
   ],
   "source": [
    "print('done')"
   ]
  }
 ],
 "metadata": {
  "kernelspec": {
   "display_name": "Python 3",
   "language": "python",
   "name": "python3"
  },
  "language_info": {
   "codemirror_mode": {
    "name": "ipython",
    "version": 3
   },
   "file_extension": ".py",
   "mimetype": "text/x-python",
   "name": "python",
   "nbconvert_exporter": "python",
   "pygments_lexer": "ipython3",
   "version": "3.13.5"
  }
 },
 "nbformat": 4,
 "nbformat_minor": 5
}
