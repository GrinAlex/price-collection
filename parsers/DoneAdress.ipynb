{
 "cells": [
  {
   "cell_type": "code",
   "execution_count": 1,
   "id": "036aa0b4",
   "metadata": {},
   "outputs": [],
   "source": [
    "from selenium import webdriver\n",
    "from selenium.webdriver.support.ui import WebDriverWait\n",
    "from selenium.webdriver.support import expected_conditions as EC\n",
    "from selenium.webdriver.common.by import By\n",
    "import time"
   ]
  },
  {
   "cell_type": "code",
   "execution_count": 2,
   "id": "7420648f",
   "metadata": {},
   "outputs": [],
   "source": [
    "driver = webdriver.Firefox()\n",
    "# driver = webdriver.Chrome()\n",
    "net = \"Silpo\"   \n",
    "url = \"https://silpo.ua/category/torty-tistechka-663\""
   ]
  },
  {
   "cell_type": "code",
   "execution_count": 3,
   "id": "abdd97b0",
   "metadata": {},
   "outputs": [],
   "source": [
    "driver.get(url)\n",
    "WebDriverWait(driver, 30).until(lambda d: d.find_element(By.CLASS_NAME, \"cookie-accept\"))\n",
    "#time.sleep(20) \n",
    "\n",
    "data = []"
   ]
  },
  {
   "cell_type": "code",
   "execution_count": 4,
   "id": "b06f2088",
   "metadata": {},
   "outputs": [],
   "source": [
    "#Прибрати куки\n",
    "while True:\n",
    "    try:\n",
    "        driver.find_element(By.CLASS_NAME, \"cookie-accept\").click()\n",
    "    except:\n",
    "        break    \n",
    "time.sleep(5)  "
   ]
  },
  {
   "cell_type": "code",
   "execution_count": 5,
   "id": "e565d971",
   "metadata": {},
   "outputs": [],
   "source": [
    "#Блок адрес\n",
    "address_button = driver.find_element(By.CLASS_NAME, \"header-delivery\").click()\n",
    "time.sleep(15) "
   ]
  },
  {
   "cell_type": "code",
   "execution_count": 6,
   "id": "be0e1676",
   "metadata": {},
   "outputs": [],
   "source": [
    "#Вибрати самосвивіз\n",
    "self_delivery = driver.find_element(By.CLASS_NAME, 'selfDelivery').click()\n",
    "time.sleep(15) "
   ]
  },
  {
   "cell_type": "code",
   "execution_count": 7,
   "id": "7c393506",
   "metadata": {},
   "outputs": [],
   "source": [
    "#Зробити активним інпут з містом та очищаємо його\n",
    "#address_block = driver.find_element(By.XPATH, '/html/body/div[3]/div[2]/div/ecomui-modal-component-host/div/sf-shop-silpo-remote-select-address-modal/shop-silpo-basket-select-address-modal/shop-silpo-basket-select-address/shop-silpo-basket-select-address-desktop/div/div[2]/div[1]/shop-silpo-basket-select-address-self-delivery/div/div[1]/div/shop-silpo-self-delivery-autocomplete[1]/shop-silpo-self-delivery-autocomplete-input').click()\n",
    "#time.sleep(15) \n",
    "\n",
    "delete_addres = driver.find_element(By.XPATH, '/html/body/div[2]/div[2]/div/ecomui-modal-component-host/div/sf-shop-silpo-remote-select-address-modal/shop-silpo-basket-select-address-modal/shop-silpo-basket-select-address/shop-silpo-basket-select-address-desktop/div/div[2]/div[1]/shop-silpo-basket-select-address-self-delivery/div/div[1]/div/shop-silpo-self-delivery-autocomplete[1]/shop-silpo-self-delivery-autocomplete-input/div/button').click()\n",
    "time.sleep(2)"
   ]
  },
  {
   "cell_type": "code",
   "execution_count": 8,
   "id": "06589f83",
   "metadata": {},
   "outputs": [],
   "source": [
    "# Знайти інпут та ввести туди місто\n",
    "\n",
    "city_name = \"Бровари\"\n",
    "\n",
    "city_choose = driver.find_element(By.ID, \"city\")\n",
    "city_choose.send_keys(city_name)\n",
    "\n",
    "city_list = driver.find_elements(By.CLASS_NAME, \"search-suggestions__item-title\")\n",
    "\n",
    "for city in city_list:\n",
    "    if city.text == city_name:\n",
    "        city.click()\n",
    "        break\n",
    "time.sleep(3) \n"
   ]
  },
  {
   "cell_type": "code",
   "execution_count": 9,
   "id": "10f07284",
   "metadata": {},
   "outputs": [],
   "source": [
    "#Зробити активним інпут з супермаркетом та очищаємо його\n",
    "address_market = driver.find_element(By.CSS_SELECTOR, 'shop-silpo-self-delivery-autocomplete.ng-star-inserted').click()\n",
    "time.sleep(1) \n",
    "\n",
    "while True:\n",
    "    try:\n",
    "        driver.find_element(By.XPATH, '/html/body/div[2]/div[2]/div/ecomui-modal-component-host/div/sf-shop-silpo-remote-select-address-modal/shop-silpo-basket-select-address-modal/shop-silpo-basket-select-address/shop-silpo-basket-select-address-desktop/div/div[2]/div[1]/shop-silpo-basket-select-address-self-delivery/div/div[1]/div/shop-silpo-self-delivery-autocomplete[2]/shop-silpo-self-delivery-autocomplete-input/div/button').click()\n",
    "    except:\n",
    "        break\n",
    "    \n",
    "time.sleep(1) "
   ]
  },
  {
   "cell_type": "code",
   "execution_count": 10,
   "id": "25732b8f",
   "metadata": {},
   "outputs": [],
   "source": [
    "# Знаходження магазину та клік\n",
    "shop_address = \"вул. Київська, 156\"\n",
    "\n",
    "shop_list = driver.find_element(By.CLASS_NAME, \"search-suggestions-scroll\")\n",
    "time.sleep(3) \n",
    "\n",
    "shop_list = shop_list.find_elements(By.CLASS_NAME, \"search-suggestions__item\")\n",
    "for shop in shop_list:\n",
    "    if shop.text == shop_address:\n",
    "        shop.click()\n",
    "        break\n",
    "time.sleep(3) "
   ]
  },
  {
   "cell_type": "code",
   "execution_count": 11,
   "id": "0a10994a",
   "metadata": {},
   "outputs": [],
   "source": [
    "# Підтвердити адресу\n",
    "button_accept = driver.find_element(By.CLASS_NAME, 'address-search-container-content__button').click()\n",
    "time.sleep(10)"
   ]
  }
 ],
 "metadata": {
  "kernelspec": {
   "display_name": ".venv",
   "language": "python",
   "name": "python3"
  },
  "language_info": {
   "codemirror_mode": {
    "name": "ipython",
    "version": 3
   },
   "file_extension": ".py",
   "mimetype": "text/x-python",
   "name": "python",
   "nbconvert_exporter": "python",
   "pygments_lexer": "ipython3",
   "version": "3.14.0"
  }
 },
 "nbformat": 4,
 "nbformat_minor": 5
}
