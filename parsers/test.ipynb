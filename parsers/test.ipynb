{
 "cells": [
  {
   "cell_type": "code",
   "execution_count": 1,
   "id": "036aa0b4",
   "metadata": {},
   "outputs": [],
   "source": [
    "from selenium import webdriver\n",
    "from selenium.webdriver.support.ui import WebDriverWait\n",
    "from selenium.webdriver.support import expected_conditions as EC\n",
    "from selenium.webdriver.common.by import By\n",
    "import time"
   ]
  },
  {
   "cell_type": "code",
   "execution_count": 2,
   "id": "7420648f",
   "metadata": {},
   "outputs": [],
   "source": [
    "driver = webdriver.Firefox()\n",
    "# driver = webdriver.Chrome()\n",
    "net = \"Silpo\"   \n",
    "url = \"https://silpo.ua/category/torty-tistechka-663\""
   ]
  },
  {
   "cell_type": "code",
   "execution_count": 3,
   "id": "abdd97b0",
   "metadata": {},
   "outputs": [],
   "source": [
    "driver.get(url)\n",
    "WebDriverWait(driver, 30).until(lambda d: d.find_element(By.CLASS_NAME, \"cookie-accept\"))\n",
    "#time.sleep(20) \n",
    "\n",
    "data = []"
   ]
  },
  {
   "cell_type": "code",
   "execution_count": 4,
   "id": "b06f2088",
   "metadata": {},
   "outputs": [],
   "source": [
    "#Прибрати куки\n",
    "while True:\n",
    "    try:\n",
    "        driver.find_element(By.CLASS_NAME, \"cookie-accept\").click()\n",
    "    except:\n",
    "        break    \n",
    "time.sleep(5)  "
   ]
  },
  {
   "cell_type": "code",
   "execution_count": 5,
   "id": "e565d971",
   "metadata": {},
   "outputs": [],
   "source": [
    "#Блок адрес\n",
    "address_button = driver.find_element(By.CLASS_NAME, \"header-delivery\").click()\n",
    "time.sleep(15) "
   ]
  },
  {
   "cell_type": "code",
   "execution_count": 6,
   "id": "be0e1676",
   "metadata": {},
   "outputs": [],
   "source": [
    "#Вибрати самосвивіз\n",
    "self_delivery = driver.find_element(By.CLASS_NAME, 'selfDelivery').click()\n",
    "time.sleep(20) "
   ]
  },
  {
   "cell_type": "code",
   "execution_count": 3,
   "id": "7c393506",
   "metadata": {},
   "outputs": [
    {
     "ename": "NameError",
     "evalue": "name 'driver' is not defined",
     "output_type": "error",
     "traceback": [
      "\u001b[31m---------------------------------------------------------------------------\u001b[39m",
      "\u001b[31mNameError\u001b[39m                                 Traceback (most recent call last)",
      "\u001b[36mCell\u001b[39m\u001b[36m \u001b[39m\u001b[32mIn[3]\u001b[39m\u001b[32m, line 5\u001b[39m\n\u001b[32m      1\u001b[39m \u001b[38;5;66;03m#Зробити активним інпут з містом та очищаємо його\u001b[39;00m\n\u001b[32m      2\u001b[39m \u001b[38;5;66;03m#address_block = driver.find_element(By.XPATH, '/html/body/div[3]/div[2]/div/ecomui-modal-component-host/div/sf-shop-silpo-remote-select-address-modal/shop-silpo-basket-select-address-modal/shop-silpo-basket-select-address/shop-silpo-basket-select-address-desktop/div/div[2]/div[1]/shop-silpo-basket-select-address-self-delivery/div/div[1]/div/shop-silpo-self-delivery-autocomplete[1]/shop-silpo-self-delivery-autocomplete-input').click()\u001b[39;00m\n\u001b[32m      3\u001b[39m \u001b[38;5;66;03m#time.sleep(15) \u001b[39;00m\n\u001b[32m----> \u001b[39m\u001b[32m5\u001b[39m delete_addres = \u001b[43mdriver\u001b[49m.find_element(By.CLASS_NAME, \u001b[33m'\u001b[39m\u001b[33msearch-input__clear\u001b[39m\u001b[33m'\u001b[39m).click()\n\u001b[32m      6\u001b[39m time.sleep(\u001b[32m5\u001b[39m)\n",
      "\u001b[31mNameError\u001b[39m: name 'driver' is not defined"
     ]
    }
   ],
   "source": [
    "#Зробити активним інпут з містом та очищаємо його\n",
    "#address_block = driver.find_element(By.XPATH, '/html/body/div[3]/div[2]/div/ecomui-modal-component-host/div/sf-shop-silpo-remote-select-address-modal/shop-silpo-basket-select-address-modal/shop-silpo-basket-select-address/shop-silpo-basket-select-address-desktop/div/div[2]/div[1]/shop-silpo-basket-select-address-self-delivery/div/div[1]/div/shop-silpo-self-delivery-autocomplete[1]/shop-silpo-self-delivery-autocomplete-input').click()\n",
    "#time.sleep(15) \n",
    "\n",
    "delete_addres = driver.find_element(By.CLASS_NAME, 'search-input__clear').click()\n",
    "time.sleep(5)"
   ]
  },
  {
   "cell_type": "code",
   "execution_count": 8,
   "id": "06589f83",
   "metadata": {},
   "outputs": [],
   "source": [
    "# Знайти інпут та ввести туди місто\n",
    "\n",
    "city_name = \"Бровари\"\n",
    "\n",
    "city_choose = driver.find_element(By.ID, \"city\")\n",
    "city_choose.send_keys(city_name)\n",
    "\n",
    "city_list = driver.find_elements(By.CLASS_NAME, \"search-suggestions__item-title\")\n",
    "\n",
    "for city in city_list:\n",
    "    if city.text == city_name:\n",
    "        city.click()\n",
    "        break\n",
    "time.sleep(3) \n"
   ]
  },
  {
   "cell_type": "code",
   "execution_count": 9,
   "id": "10f07284",
   "metadata": {},
   "outputs": [],
   "source": [
    "#Зробити активним інпут з супермаркетом та очищаємо його\n",
    "address_market = driver.find_element(By.CSS_SELECTOR, 'shop-silpo-self-delivery-autocomplete.ng-star-inserted').click()\n",
    "time.sleep(1) \n",
    "\n",
    "while True:\n",
    "    try:\n",
    "        driver.find_element(By.XPATH, '/html/body/div[2]/div[2]/div/ecomui-modal-component-host/div/sf-shop-silpo-remote-select-address-modal/shop-silpo-basket-select-address-modal/shop-silpo-basket-select-address/shop-silpo-basket-select-address-desktop/div/div[2]/div[1]/shop-silpo-basket-select-address-self-delivery/div/div[1]/div/shop-silpo-self-delivery-autocomplete[2]/shop-silpo-self-delivery-autocomplete-input/div/button').click()\n",
    "    except:\n",
    "        break\n",
    "    \n",
    "time.sleep(1) "
   ]
  },
  {
   "cell_type": "code",
   "execution_count": 10,
   "id": "25732b8f",
   "metadata": {},
   "outputs": [],
   "source": [
    "# Знаходження магазину та клік\n",
    "shop_address = \"вул. Київська, 156\"\n",
    "\n",
    "shop_list = driver.find_element(By.CLASS_NAME, \"search-suggestions-scroll\")\n",
    "time.sleep(3) \n",
    "\n",
    "shop_list = shop_list.find_elements(By.CLASS_NAME, \"search-suggestions__item\")\n",
    "for shop in shop_list:\n",
    "    if shop.text == shop_address:\n",
    "        shop.click()\n",
    "        break\n",
    "time.sleep(3) "
   ]
  },
  {
   "cell_type": "code",
   "execution_count": 11,
   "id": "0a10994a",
   "metadata": {},
   "outputs": [],
   "source": [
    "# Підтвердити адресу\n",
    "button_accept = driver.find_element(By.CLASS_NAME, 'address-search-container-content__button').click()\n",
    "time.sleep(10)"
   ]
  },
  {
   "cell_type": "code",
   "execution_count": 12,
   "id": "35ba54c3",
   "metadata": {},
   "outputs": [],
   "source": [
    "#Прокрутка сторінки\n",
    "while True:\n",
    "    try:\n",
    "        driver.find_element(By.XPATH, '/html/body/sf-shop-silpo-root/shop-silpo-root-shell/silpo-shell-main/div/div[3]/silpo-category/silpo-catalog/div/div[2]/div/ecomui-pagination/div/button/div').click()\n",
    "        time.sleep(5)\n",
    "    except Exception as e:\n",
    "        break    "
   ]
  },
  {
   "cell_type": "code",
   "execution_count": 13,
   "id": "59c62e20",
   "metadata": {},
   "outputs": [],
   "source": [
    "#Продовження прокрутки сторінки\n",
    "prev_height = -1 \n",
    "max_scrolls = 100\n",
    "scroll_count = 0\n",
    "\n",
    "while scroll_count < max_scrolls:\n",
    "    driver.execute_script(\"window.scrollTo(0, document.body.scrollHeight);\")\n",
    "    time.sleep(3)  \n",
    "    new_height = driver.execute_script(\"return document.body.scrollHeight\")\n",
    "    if new_height == prev_height:\n",
    "        break\n",
    "    prev_height = new_height\n",
    "    scroll_count += 1"
   ]
  },
  {
   "cell_type": "code",
   "execution_count": null,
   "id": "c0c99e8c",
   "metadata": {},
   "outputs": [
    {
     "name": "stdout",
     "output_type": "stream",
     "text": [
      "[{'name': 'Торт «Медово-горіховий»', 'regular_price': '17.94', 'old_price': '29.90 грн', 'special_price': '17.94', 'special_text': '100г'}, {'name': 'Тістечко Прага', 'regular_price': '39.68', 'old_price': '52.90 грн', 'special_price': '39.68', 'special_text': '100г'}, {'name': 'Тістечко Персик', 'regular_price': '29.99', 'old_price': '', 'special_price': '29.99', 'special_text': '110г'}, {'name': 'Тістечко «Наполеон» «Від тьоті Соні»', 'regular_price': '89.46', 'old_price': '126.00 грн', 'special_price': '89.46', 'special_text': '320г'}, {'name': 'Тістечко Чизкейк вишневий', 'regular_price': '48.68', 'old_price': '64.90 грн', 'special_price': '48.68', 'special_text': '100г'}, {'name': 'Сочник з сиром', 'regular_price': '42.89', 'old_price': '', 'special_price': '42.89', 'special_text': '110г'}, {'name': 'Тістечко «Заварне»', 'regular_price': '17.90', 'old_price': '32.40 грн', 'special_price': '17.90', 'special_text': '100г'}, {'name': 'Тістечко «Парі-Брест» із заварним кремом', 'regular_price': '24.90', 'old_price': '34.40 грн', 'special_price': '24.90', 'special_text': '100г'}, {'name': 'Торт «Наполеон»', 'regular_price': '27.90', 'old_price': '', 'special_price': '27.90', 'special_text': '100г'}, {'name': 'Тістечко «Кошик» з білковим кремом', 'regular_price': '36.79', 'old_price': '', 'special_price': '36.79', 'special_text': '160г'}, {'name': 'Торт «Прага»', 'regular_price': '42.90', 'old_price': '', 'special_price': '42.90', 'special_text': '100г'}, {'name': 'Торт Valentin&Valentina Shtefanyo Ужгород', 'regular_price': '629.00', 'old_price': '', 'special_price': '629.00', 'special_text': '410г'}, {'name': 'Тістечко «Заварне» упаковане', 'regular_price': '17.90', 'old_price': '31.90 грн', 'special_price': '17.90', 'special_text': '100г'}, {'name': 'Тістечка Київ БКК Бісквітно-кремові', 'regular_price': '199.00', 'old_price': '', 'special_price': '199.00', 'special_text': '360г'}, {'name': 'Тістечко Ріжок зі згущеним молоком', 'regular_price': '31.99', 'old_price': '43.99 грн', 'special_price': '31.99', 'special_text': '100г'}, {'name': 'Тістечко «Картопля» у кокосі', 'regular_price': '59.99', 'old_price': '', 'special_price': '59.99', 'special_text': '210г'}, {'name': 'Тістечка БКК «Еклер французький»', 'regular_price': '164.00', 'old_price': '224.00 грн', 'special_price': '164.00', 'special_text': '330г'}, {'name': 'Тістечко Чизкейк малиновий', 'regular_price': '36.90', 'old_price': '', 'special_price': '36.90', 'special_text': '100г'}, {'name': 'Тістечка Трубочки з білковим кремом', 'regular_price': '53.49', 'old_price': '', 'special_price': '53.49', 'special_text': '135г'}, {'name': 'Пиріг з апельсином та журавлиною', 'regular_price': '26.90', 'old_price': '', 'special_price': '26.90', 'special_text': '100г'}, {'name': 'Рулет Меренговий', 'regular_price': '84.90', 'old_price': '', 'special_price': '84.90', 'special_text': '100г'}, {'name': 'Торт Nonpareil Тірамісу Маскарпоне', 'regular_price': '149.00', 'old_price': '199.00 грн', 'special_price': '149.00', 'special_text': '380г'}, {'name': 'Тістечко Кошик з персиком', 'regular_price': '79.99', 'old_price': '', 'special_price': '79.99', 'special_text': '240г'}, {'name': 'Торт «Чотири зустрічі»', 'regular_price': '36.90', 'old_price': '', 'special_price': '36.90', 'special_text': '100г'}, {'name': 'Тістечка Київ БКК Бісквітно-кремові', 'regular_price': '79.99', 'old_price': '109.00 грн', 'special_price': '79.99', 'special_text': '180г'}, {'name': 'Тістечко БКК «Еклер» зі згущеним молоком в упаковці', 'regular_price': '43.19', 'old_price': '', 'special_price': '43.19', 'special_text': '60г'}, {'name': 'Тістечко «Трубочка» з білковим кремом', 'regular_price': '18.39', 'old_price': '', 'special_price': '18.39', 'special_text': '45г'}, {'name': 'Тістечка Київ БКК Птіфури Кокос', 'regular_price': '149.00', 'old_price': '', 'special_price': '149.00', 'special_text': '225г'}, {'name': 'Тістечко Еклер малиновий', 'regular_price': '51.99', 'old_price': '', 'special_price': '51.99', 'special_text': '80г'}, {'name': 'Торт БКК «Три молока» «Від Шефа»', 'regular_price': '279.00', 'old_price': '', 'special_price': '279.00', 'special_text': '500г'}, {'name': 'Тістечка БКК «Заварні» «Іриска»', 'regular_price': '229.00', 'old_price': '', 'special_price': '229.00', 'special_text': '360г'}, {'name': 'Тістечко Кошик з вишнею', 'regular_price': '71.99', 'old_price': '', 'special_price': '71.99', 'special_text': '200г'}, {'name': 'Торт «Спартак»', 'regular_price': '35.40', 'old_price': '', 'special_price': '35.40', 'special_text': '100г'}, {'name': 'Тістечка Tarta Еклер Французький заварні', 'regular_price': '184.00', 'old_price': '', 'special_price': '184.00', 'special_text': '275г'}, {'name': 'Торт Tarta Yogurt Forest berries cake', 'regular_price': '184.00', 'old_price': '244.00 грн', 'special_price': '184.00', 'special_text': '400г'}, {'name': 'Тістечко Nonpareil Горішки зі згущеним молоком', 'regular_price': '10.39', 'old_price': '', 'special_price': '10.39', 'special_text': '21г'}, {'name': 'Тістечко шоколадне Моцарт', 'regular_price': '66.90', 'old_price': '', 'special_price': '66.90', 'special_text': '100г'}, {'name': 'Тістечко Сиркове з ягодами', 'regular_price': '94.99', 'old_price': '', 'special_price': '94.99', 'special_text': '220г'}, {'name': 'Тістечко «Йогуртове» з ягодами', 'regular_price': '56.90', 'old_price': '', 'special_price': '56.90', 'special_text': '100г'}, {'name': 'Тістечко Nonpareil Fusion Cake Макаронc Мікс', 'regular_price': '18.29', 'old_price': '', 'special_price': '18.29', 'special_text': '21г'}, {'name': \"Торт Nonpareil Київський Ф'южн з журавлиною\", 'regular_price': '169.00', 'old_price': '234.00 грн', 'special_price': '169.00', 'special_text': '300г'}, {'name': 'Тістечко Еклер смородиновий', 'regular_price': '51.99', 'old_price': '', 'special_price': '51.99', 'special_text': '80г'}, {'name': 'Тістечко Червоний оксамит', 'regular_price': '45.90', 'old_price': '', 'special_price': '45.90', 'special_text': '100г'}, {'name': 'Десерт «Інтрига»', 'regular_price': '42.90', 'old_price': '', 'special_price': '42.90', 'special_text': '100г'}, {'name': 'Тістечко «Сан Пауло»', 'regular_price': '84.90', 'old_price': '', 'special_price': '84.90', 'special_text': '100г'}, {'name': 'Торт Tarta Вишуканий грильяжний повітряно-арахісовий', 'regular_price': '374.00', 'old_price': '', 'special_price': '374.00', 'special_text': '450г'}, {'name': 'Торт Nonpareil Матча з малиною', 'regular_price': '249.00', 'old_price': '374.00 грн', 'special_price': '249.00', 'special_text': '500г'}, {'name': 'Тістечко Чотири зустрічі', 'regular_price': '36.40', 'old_price': '', 'special_price': '36.40', 'special_text': '100г'}, {'name': 'Тістечко Дабл Чиз', 'regular_price': '47.90', 'old_price': '', 'special_price': '47.90', 'special_text': '100г'}, {'name': 'Десерт «Баварський»', 'regular_price': '49.90', 'old_price': '', 'special_price': '49.90', 'special_text': '100г'}, {'name': 'Торт БКК «Празький» з вишнею', 'regular_price': '599.00', 'old_price': '', 'special_price': '599.00', 'special_text': '850г'}, {'name': 'Тістечко «Тарт цитрон»', 'regular_price': '39.90', 'old_price': '', 'special_price': '39.90', 'special_text': '100г'}, {'name': 'Тістечко «Кранчі»', 'regular_price': '94.99', 'old_price': '', 'special_price': '94.99', 'special_text': '125г'}, {'name': 'Торт БКК «Наполеон»', 'regular_price': '279.00', 'old_price': '', 'special_price': '279.00', 'special_text': '700г'}, {'name': 'Тістечко Макарон Ігриста полуниця', 'regular_price': '43.99', 'old_price': '', 'special_price': '43.99', 'special_text': '35г'}, {'name': 'Десерт Три шоколади', 'regular_price': '67.90', 'old_price': '', 'special_price': '67.90', 'special_text': '100г'}, {'name': 'Тістечко Сиркове з манго', 'regular_price': '94.99', 'old_price': '', 'special_price': '94.99', 'special_text': '220г'}, {'name': 'Тістечко Еклер чорничний', 'regular_price': '51.99', 'old_price': '', 'special_price': '51.99', 'special_text': '80г'}, {'name': 'Торт «Естерхазі»', 'regular_price': '54.90', 'old_price': '', 'special_price': '54.90', 'special_text': '100г'}, {'name': 'Торт Шанталь', 'regular_price': '219.00', 'old_price': '', 'special_price': '219.00', 'special_text': '450г'}, {'name': 'Тістечко Nonpareil Fusion nuts Мікс 4 шт.', 'regular_price': '88.49', 'old_price': '', 'special_price': '88.49', 'special_text': '100г'}, {'name': 'Тістечко Макарон Манго та малина', 'regular_price': '43.99', 'old_price': '', 'special_price': '43.99', 'special_text': '35г'}, {'name': 'Торт Tarta Празький', 'regular_price': '559.00', 'old_price': '', 'special_price': '559.00', 'special_text': '850г'}, {'name': 'Торт «Моцарт»', 'regular_price': '53.90', 'old_price': '', 'special_price': '53.90', 'special_text': '100г'}, {'name': 'Торт «Трюфельний»', 'regular_price': '30.90', 'old_price': '', 'special_price': '30.90', 'special_text': '100г'}, {'name': 'Тістечко Еклер ванільний', 'regular_price': '51.99', 'old_price': '', 'special_price': '51.99', 'special_text': '80г'}, {'name': 'Торт Tarta Berrу Cake бісквітний', 'regular_price': '249.00', 'old_price': '', 'special_price': '249.00', 'special_text': '450г'}, {'name': 'Тістечко Оксамитове серце', 'regular_price': '74.99', 'old_price': '', 'special_price': '74.99', 'special_text': '90г'}, {'name': 'Тістечка БКК «Еклери» зі згущеним молоком', 'regular_price': '199.00', 'old_price': '', 'special_price': '199.00', 'special_text': '360г'}, {'name': 'Торт БКК «Медовик»', 'regular_price': '329.00', 'old_price': '', 'special_price': '329.00', 'special_text': '700г'}, {'name': 'Тістечко Макарон Біла кава', 'regular_price': '43.99', 'old_price': '', 'special_price': '43.99', 'special_text': '35г'}, {'name': 'Торт БКК Київ вишневий', 'regular_price': '369.00', 'old_price': '', 'special_price': '369.00', 'special_text': '450г'}, {'name': 'Торт БКК Київ вишневий', 'regular_price': '599.00', 'old_price': '', 'special_price': '599.00', 'special_text': '850г'}, {'name': 'Торт Nonpareil «Червоний оксамит»', 'regular_price': '354.00', 'old_price': '', 'special_price': '354.00', 'special_text': '500г'}, {'name': 'Торт Tarta Празький з вишнею', 'regular_price': '339.00', 'old_price': '', 'special_price': '339.00', 'special_text': '450г'}, {'name': 'Тістечко Nonpareil Fusion nuts мікс', 'regular_price': '18.79', 'old_price': '', 'special_price': '18.79', 'special_text': '25г'}, {'name': \"Тістечко Макарон Лайм та м'ята\", 'regular_price': '43.99', 'old_price': '', 'special_price': '43.99', 'special_text': '35г'}, {'name': 'Торт «Карамельний»', 'regular_price': '28.90', 'old_price': '', 'special_price': '28.90', 'special_text': '100г'}, {'name': 'Тістечко Nonpareil Macarons Мікс', 'regular_price': '88.49', 'old_price': '', 'special_price': '88.49', 'special_text': '4*20г'}, {'name': 'Тістечко Tarta Вафельна трубочка зі згущеним молоком', 'regular_price': '129.00', 'old_price': '', 'special_price': '129.00', 'special_text': '200г'}, {'name': 'Торт БКК «Київський подарунок» з арахісом', 'regular_price': '719.00', 'old_price': '', 'special_price': '719.00', 'special_text': '850г'}, {'name': 'Трюфель десерт Solo Italia', 'regular_price': '149.00', 'old_price': '', 'special_price': '149.00', 'special_text': '180г'}, {'name': 'Торт БКК «Грильяжний» глазурований', 'regular_price': '524.00', 'old_price': '729.00 грн', 'special_price': '524.00', 'special_text': '850г'}, {'name': 'Тістечко Макарон Дорблю та груша', 'regular_price': '43.99', 'old_price': '', 'special_price': '43.99', 'special_text': '35г'}, {'name': 'Тістечко «Тарта з лохиною»', 'regular_price': '63.90', 'old_price': '', 'special_price': '63.90', 'special_text': '100г'}, {'name': 'Торт Київ БКК Портофіно', 'regular_price': '344.00', 'old_price': '', 'special_price': '344.00', 'special_text': '450г'}, {'name': 'Торт Tarta Yogurt Peach cake', 'regular_price': '244.00', 'old_price': '', 'special_price': '244.00', 'special_text': '400г'}, {'name': 'Торт Tarta Toffeе Milk бісквітний', 'regular_price': '299.00', 'old_price': '', 'special_price': '299.00', 'special_text': '450г'}, {'name': 'Тістечко Чизкейк карамельний', 'regular_price': '64.90', 'old_price': '', 'special_price': '64.90', 'special_text': '100г'}, {'name': 'Торт Tarta «Легенда Києва» повітряно-арахісовий', 'regular_price': '349.00', 'old_price': '', 'special_price': '349.00', 'special_text': '450г'}, {'name': 'Торт Tarta «Пташине молоко»', 'regular_price': '159.00', 'old_price': '', 'special_price': '159.00', 'special_text': '300г'}, {'name': 'Десерт Bonta Divina Тірамісу', 'regular_price': '319.00', 'old_price': '', 'special_price': '319.00', 'special_text': '500г'}, {'name': 'Десерт Dolce Italia Тірамісу', 'regular_price': '99.00', 'old_price': '', 'special_price': '99.00', 'special_text': '80г'}, {'name': 'Профітролі десерт Solo Italia', 'regular_price': '174.00', 'old_price': '', 'special_price': '174.00', 'special_text': '180г'}, {'name': 'Тірамісу десерт Solo Italia', 'regular_price': '174.00', 'old_price': '', 'special_price': '174.00', 'special_text': '160г'}, {'name': 'Десерт Bonta Divina Профітролі', 'regular_price': '319.00', 'old_price': '', 'special_price': '319.00', 'special_text': '450г'}, {'name': 'Тістечко Макарон Солона карамель', 'regular_price': '54.99', 'old_price': '', 'special_price': '54.99', 'special_text': '35г'}, {'name': 'Тістечко Макарон шоколадний', 'regular_price': '54.99', 'old_price': '', 'special_price': '54.99', 'special_text': '35г'}, {'name': 'Десерт Dolce Italia Профітролі', 'regular_price': '99.00', 'old_price': '', 'special_price': '99.00', 'special_text': '80г'}, {'name': 'Тістечко «Лимонне»', 'regular_price': '', 'old_price': '', 'special_price': '', 'special_text': '390г'}, {'name': 'Торт Наполеон шоколадний', 'regular_price': '', 'old_price': '', 'special_price': '', 'special_text': '100г'}, {'name': 'Тістечка БКК заварні з кремом', 'regular_price': '', 'old_price': '', 'special_price': '', 'special_text': '180г'}, {'name': 'Тістечко «Медовичок»', 'regular_price': '', 'old_price': '', 'special_price': '', 'special_text': '390г'}, {'name': 'Тістечко Пташине молоко в чорному шоколаді', 'regular_price': '', 'old_price': '', 'special_price': '', 'special_text': '100г'}, {'name': 'Тістечко «Медове» з чорносливом', 'regular_price': '', 'old_price': '', 'special_price': '', 'special_text': '100г'}, {'name': 'Тістечко «Кошик» з білковим кремом', 'regular_price': '', 'old_price': '', 'special_price': '', 'special_text': '80г'}, {'name': 'Тістечко Морквяне', 'regular_price': '', 'old_price': '', 'special_price': '', 'special_text': '100г'}, {'name': 'Тістечка Tarta Еклер з кремом заварні', 'regular_price': '', 'old_price': '', 'special_price': '', 'special_text': '300г'}, {'name': 'Тістечко «Три шоколади»', 'regular_price': '', 'old_price': '', 'special_price': '', 'special_text': '200г'}, {'name': 'Тістечко Шварцвальд', 'regular_price': '', 'old_price': '', 'special_price': '', 'special_text': '100г'}, {'name': 'Тістечко БКК «Заварне» з кремом в упаковці', 'regular_price': '', 'old_price': '', 'special_price': '', 'special_text': '60г'}, {'name': 'Торт Roshen «Київський»', 'regular_price': '', 'old_price': '', 'special_price': '', 'special_text': '450г'}, {'name': 'Торт Nonpareil «Пінчер» з вишнею', 'regular_price': '', 'old_price': '', 'special_price': '', 'special_text': '350г'}, {'name': 'Торт Roshen «Золотий Ключик»', 'regular_price': '', 'old_price': '', 'special_price': '', 'special_text': '500г'}, {'name': 'Торт Roshen «Київський»', 'regular_price': '', 'old_price': '', 'special_price': '', 'special_text': '850г'}, {'name': 'Тістечко Еклер манго та маракуя', 'regular_price': '', 'old_price': '', 'special_price': '', 'special_text': '80г'}, {'name': 'Тістечко «Три шоколади»', 'regular_price': '', 'old_price': '', 'special_price': '', 'special_text': '100г'}, {'name': 'Торт Roshen «Золотий ключик»', 'regular_price': '', 'old_price': '', 'special_price': '', 'special_text': '900г'}, {'name': 'Тістечко «Наполеон» «Від тьоті Соні»', 'regular_price': '', 'old_price': '', 'special_price': '', 'special_text': '100г'}, {'name': 'Тістечка Tarta Еклер з карамеллю заварні', 'regular_price': '', 'old_price': '', 'special_price': '', 'special_text': '250г'}, {'name': 'Тістечко «Тарта малинова»', 'regular_price': '', 'old_price': '', 'special_price': '', 'special_text': '100г'}, {'name': 'Торт Roshen «Грильяж»', 'regular_price': '', 'old_price': '', 'special_price': '', 'special_text': '450г'}, {'name': 'Тістечко «Тарта полунична»', 'regular_price': '', 'old_price': '', 'special_price': '', 'special_text': '100г'}, {'name': 'Торт Київ БКК Dubai Secret', 'regular_price': '', 'old_price': '', 'special_price': '', 'special_text': '700г'}, {'name': 'Рулет Меренговий з фісташкою', 'regular_price': '', 'old_price': '', 'special_price': '', 'special_text': '100г'}, {'name': 'Тістечко Макарон Пряний шоколад', 'regular_price': '', 'old_price': '', 'special_price': '', 'special_text': '35г'}, {'name': 'Торт Nonpareil Київський з какао', 'regular_price': '', 'old_price': '', 'special_price': '', 'special_text': '500г'}, {'name': 'Торт Roshen «Трюфельний»', 'regular_price': '', 'old_price': '', 'special_price': '', 'special_text': '520г'}, {'name': 'Торт Київ БКК Балерина Капучино', 'regular_price': '', 'old_price': '', 'special_price': '', 'special_text': '450г'}, {'name': 'Торт Roshen «Грильяж»', 'regular_price': '', 'old_price': '', 'special_price': '', 'special_text': '850г'}, {'name': 'Тістечко Тарта Горіхова з солоною карамеллю', 'regular_price': '', 'old_price': '', 'special_price': '', 'special_text': '115г'}, {'name': 'Торт Nonpareil «Наполеон» з солоною карамеллю', 'regular_price': '', 'old_price': '', 'special_price': '', 'special_text': '450г'}, {'name': 'Торт БКК «Київський дарунок» «Від Шефа»', 'regular_price': '', 'old_price': '', 'special_price': '', 'special_text': '450г'}]\n"
     ]
    }
   ],
   "source": [
    "# Збір інфи та вивід\n",
    "elems = driver.find_element(By.CSS_SELECTOR, \"div.products-list\")\n",
    "product_cards = elems.find_elements(By.CLASS_NAME, \"products-list__item\")\n",
    "time.sleep(20)  \n",
    "    \n",
    "for product in product_cards:\n",
    "    if not product.is_displayed():\n",
    "        continue\n",
    "\n",
    "\n",
    "    name = product.find_element(By.CLASS_NAME, \"product-card__title\").text\n",
    "    quantity = product.find_element(By.CLASS_NAME, \"ft-typo-14-semibold\").text\n",
    "    regular_price = product.find_element(By.CLASS_NAME, \"product-card-price__displayPrice\").text.split(\" \")[0] if product.find_elements(By.CLASS_NAME, \"sf-price__regular\") else ''\n",
    "    old_price = product.find_element(By.CLASS_NAME, \"product-card-price__displayOldPrice\").text if product.find_elements(By.CLASS_NAME, \"sf-price__old\") else ''\n",
    "    special_price = product.find_element(By.CLASS_NAME, \"product-card-price__displayPrice\").text.split(\" \")[0] if product.find_elements(By.CLASS_NAME, \"sf-price__special\") else ''\n",
    "    special_text = product.find_element(By.CLASS_NAME, \"sf-product-card__badge_text\").text if product.find_elements(By.CLASS_NAME, \"sf-product-card__badge_text\") else ''\n",
    "\n",
    "    if regular_price == '':\n",
    "        regular_price = old_price\n",
    "\n",
    "    if special_price == '':\n",
    "        is_promo = False\n",
    "    else:\n",
    "        is_promo = True\n",
    "\n",
    "\n",
    "    product_info = {\n",
    "        'net': \"Сільпо\",\n",
    "        'city': city_name,\n",
    "        'shop_address': shop_address,\n",
    "        'category': category_name,\n",
    "        'product': name,\n",
    "        'quantity': quantity,\n",
    "        'regular_price': regular_price,\n",
    "        'special_price': special_price,\n",
    "        'is_promo': is_promo,\n",
    "        'special_text': special_text,\n",
    "        'log_date': curr_time\n",
    "    }\n",
    "    data.append(product_info)\n",
    "    \n",
    "    \n",
    "print(data)\n"
   ]
  }
 ],
 "metadata": {
  "kernelspec": {
   "display_name": ".venv",
   "language": "python",
   "name": "python3"
  },
  "language_info": {
   "codemirror_mode": {
    "name": "ipython",
    "version": 3
   },
   "file_extension": ".py",
   "mimetype": "text/x-python",
   "name": "python",
   "nbconvert_exporter": "python",
   "pygments_lexer": "ipython3",
   "version": "3.14.0"
  }
 },
 "nbformat": 4,
 "nbformat_minor": 5
}
