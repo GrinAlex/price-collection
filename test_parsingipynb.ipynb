{
 "cells": [
  {
   "cell_type": "code",
   "execution_count": 1,
   "id": "b1f478ea",
   "metadata": {},
   "outputs": [],
   "source": [
    "from selenium import webdriver\n",
    "from selenium.webdriver.support.ui import WebDriverWait\n",
    "from selenium.webdriver.support import expected_conditions as EC\n",
    "from selenium.webdriver.common.by import By\n",
    "import csv\n",
    "import time"
   ]
  },
  {
   "cell_type": "code",
   "execution_count": 2,
   "id": "9c747105",
   "metadata": {},
   "outputs": [],
   "source": [
    "net = \"Varus\"\n",
    "url = \"https://varus.ua\"\n",
    "curr_time = time.strftime(\"%Y-%m-%d %H:%M:%S\", time.localtime())\n",
    "time_sleep = 20\n",
    "# Empty data list to store product cards\n",
    "data = []"
   ]
  },
  {
   "cell_type": "code",
   "execution_count": 3,
   "id": "a7e8d02d",
   "metadata": {},
   "outputs": [
    {
     "name": "stdout",
     "output_type": "stream",
     "text": [
      "Page loaded successfully\n"
     ]
    }
   ],
   "source": [
    "driver = webdriver.Firefox()\n",
    "driver.get(url)\n",
    "WebDriverWait(driver, 30).until(EC.presence_of_element_located((By.CLASS_NAME, \"swl__address\")))\n",
    "print(\"Page loaded successfully\")"
   ]
  },
  {
   "cell_type": "code",
   "execution_count": 4,
   "id": "d8e40399",
   "metadata": {},
   "outputs": [],
   "source": [
    "# Блок адресів\n",
    "address_button = driver.find_element(By.CSS_SELECTOR, \"p.swl__address\")\n",
    "address_button.click()"
   ]
  },
  {
   "cell_type": "code",
   "execution_count": 5,
   "id": "8bb1866e",
   "metadata": {},
   "outputs": [],
   "source": [
    "# Блок самовивозу\n",
    "address_block = driver.find_element(By.CSS_SELECTOR, \"div.radio-switcher-square\")\n",
    "self_delivery = address_block.find_elements(By.CSS_SELECTOR, \"div.radio-switcher-square__input\")[1]\n",
    "self_delivery.click()"
   ]
  },
  {
   "cell_type": "code",
   "execution_count": 6,
   "id": "b0618415",
   "metadata": {},
   "outputs": [],
   "source": [
    "# Вибір міста\n",
    "city_block = driver.find_element(By.CSS_SELECTOR, \"div.m-input-autocomplete__chevron\")\n",
    "city_block.click()"
   ]
  },
  {
   "cell_type": "code",
   "execution_count": 7,
   "id": "59d9a608",
   "metadata": {},
   "outputs": [],
   "source": [
    "# Знаходження переліку міст та клік по місту Київ\n",
    "city_list = driver.find_elements(By.CSS_SELECTOR, \"li.m-input-autocomplete__autocomplete-item\")\n",
    "for city in city_list:\n",
    "    if city.text == \"Київ\":\n",
    "        city.click()\n",
    "        break"
   ]
  },
  {
   "cell_type": "code",
   "execution_count": 8,
   "id": "d8625753",
   "metadata": {},
   "outputs": [],
   "source": [
    "# Вибір магазину\n",
    "shop_list = driver.find_element(By.CSS_SELECTOR, \"div.m-locate-switcher-shop__smooth\")\n",
    "shop_list.click()"
   ]
  },
  {
   "cell_type": "code",
   "execution_count": 9,
   "id": "5ec71930",
   "metadata": {},
   "outputs": [],
   "source": [
    "# Знаходження переліку магазинів та клік по \"вул. Драгоманова 40г\"\n",
    "shop_list =shop_list.find_elements(By.CSS_SELECTOR, \"li.m-input-autocomplete__autocomplete-item\")\n",
    "for shop in shop_list:\n",
    "    if shop.text == \"вул. Драгоманова 40г\":\n",
    "        shop.click()\n",
    "        break"
   ]
  },
  {
   "cell_type": "code",
   "execution_count": 10,
   "id": "8db80d64",
   "metadata": {},
   "outputs": [],
   "source": [
    "# До покупок\n",
    "button_to_shop = driver.find_element(By.CSS_SELECTOR, \"div.shp-save\")\n",
    "if button_to_shop.text == \"До покупок\":\n",
    "    button_to_shop.click()  "
   ]
  },
  {
   "cell_type": "code",
   "execution_count": 11,
   "id": "e76ce309",
   "metadata": {},
   "outputs": [
    {
     "name": "stdout",
     "output_type": "stream",
     "text": [
      "Page loaded successfully\n"
     ]
    }
   ],
   "source": [
    "# Прохід по всім категоріям продукції та збір цін\n",
    "category_url = \"https://varus.ua/torti\"\n",
    "driver.get(category_url)\n",
    "WebDriverWait(driver, 30).until(EC.presence_of_element_located((By.CLASS_NAME, \"swl__address\")))\n",
    "print(\"Page loaded successfully\")"
   ]
  },
  {
   "cell_type": "code",
   "execution_count": 12,
   "id": "9803ba2a",
   "metadata": {},
   "outputs": [
    {
     "name": "stdout",
     "output_type": "stream",
     "text": [
      "Start scrolling\n",
      "Scroll completed\n",
      "Sleep finished\n",
      "Start scrolling\n",
      "Scroll completed\n",
      "Sleep finished\n",
      "Start scrolling\n",
      "Scroll completed\n",
      "Sleep finished\n",
      "Start scrolling\n"
     ]
    }
   ],
   "source": [
    "# Скролінг сторінки для розкриття всіх товарів\n",
    "while True:\n",
    "    try:\n",
    "        print(\"Start scrolling\")\n",
    "        driver.find_element(By.CSS_SELECTOR, \"div.bottom-plp-block\").find_element(By.TAG_NAME, \"button\").click()\n",
    "        print(\"Scroll completed\")\n",
    "        time.sleep(time_sleep)\n",
    "        print(\"Sleep finished\")\n",
    "    except:\n",
    "        break"
   ]
  },
  {
   "cell_type": "code",
   "execution_count": 13,
   "id": "065023c6",
   "metadata": {},
   "outputs": [],
   "source": [
    "# Get all elements from the current page\n",
    "elems = driver.find_element(By.CLASS_NAME, \"products\")\n",
    "\n",
    "# Find all product cards\n",
    "product_cards = elems.find_elements(By.CLASS_NAME, \"sf-product-card\")\n",
    "product_cards_list = [prod_card for prod_card in product_cards if prod_card.is_displayed()]\n",
    "\n",
    "# Loop by product_cards_list\n",
    "for product in product_cards_list:\n",
    "    product_name = product.find_element(By.CLASS_NAME, \"sf-product-card__title\").text\n",
    "    product_quantity = product.find_element(By.CLASS_NAME, \"sf-product-card__quantity\").text\n",
    "    try:\n",
    "        product_regular_price = product.find_element(By.CLASS_NAME, \"sf-price__regular\").text.split(\" \")[0]\n",
    "    except:\n",
    "        product_regular_price = ''\n",
    "    try:\n",
    "        product_old_price = product.find_element(By.CLASS_NAME, \"sf-price__old\").text\n",
    "    except:\n",
    "        product_old_price = ''\n",
    "    try:\n",
    "        product_special_price = product.find_element(By.CLASS_NAME, \"sf-price__special\").text.split(\" \")[0]\n",
    "    except:\n",
    "        product_special_price = ''\n",
    "    try:\n",
    "        product_special_text = product.find_element(By.CLASS_NAME, \"sf-product-card__badge_text\").text\n",
    "    except:\n",
    "        product_special_text = ''\n",
    "    data.append({\n",
    "        'net': net,\n",
    "        'name': product_name,\n",
    "        'quantity': product_quantity,\n",
    "        'regular_price': product_regular_price,\n",
    "        'old_price': product_old_price,\n",
    "        'special_price': product_special_price,\n",
    "        'special_text': product_special_text,\n",
    "        'curr_time': curr_time\n",
    "    })"
   ]
  },
  {
   "cell_type": "code",
   "execution_count": 14,
   "id": "39949c69",
   "metadata": {},
   "outputs": [],
   "source": [
    "driver.close()"
   ]
  },
  {
   "cell_type": "code",
   "execution_count": 15,
   "id": "e2364522",
   "metadata": {},
   "outputs": [],
   "source": [
    "# Specify the CSV file name\n",
    "filename = \"data.csv\"\n",
    "\n",
    "# Extract fieldnames from the first dictionary\n",
    "fieldnames = data[0].keys()\n",
    "\n",
    "# Write to CSV\n",
    "with open(filename, mode=\"w\", newline=\"\", encoding=\"utf-8\") as file:\n",
    "    writer = csv.DictWriter(file, fieldnames=fieldnames)\n",
    "    writer.writeheader()  # write header row\n",
    "    writer.writerows(data)  # write data rows"
   ]
  }
 ],
 "metadata": {
  "kernelspec": {
   "display_name": "venv",
   "language": "python",
   "name": "python3"
  },
  "language_info": {
   "codemirror_mode": {
    "name": "ipython",
    "version": 3
   },
   "file_extension": ".py",
   "mimetype": "text/x-python",
   "name": "python",
   "nbconvert_exporter": "python",
   "pygments_lexer": "ipython3",
   "version": "3.13.5"
  }
 },
 "nbformat": 4,
 "nbformat_minor": 5
}
